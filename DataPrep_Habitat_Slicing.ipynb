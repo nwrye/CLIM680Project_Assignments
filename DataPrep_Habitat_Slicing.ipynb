{
 "cells": [
  {
   "cell_type": "markdown",
   "id": "c572bef3-6912-44db-a31c-825150668c8c",
   "metadata": {},
   "source": [
    "  ## READING IN EXCEL DATA"
   ]
  },
  {
   "cell_type": "code",
   "execution_count": 2,
   "id": "da84c82e-203b-4474-97ce-65174e9e2e93",
   "metadata": {},
   "outputs": [
    {
     "name": "stdout",
     "output_type": "stream",
     "text": [
      "Tue Oct 17 15:11:29 2023\n",
      "Matplotlib:  3.1.1\n",
      "Numpy     :  1.17.2\n"
     ]
    }
   ],
   "source": [
    "import os \n",
    "import numpy as np\n",
    "import datetime\n",
    "import pandas as pd\n",
    "import matplotlib as mpl\n",
    "import warnings\n",
    "import matplotlib.cbook\n",
    "import matplotlib.pyplot as plt\n",
    "import netCDF4 as nc\n",
    "import os.path as osp\n",
    "import xarray as xr\n",
    "import matplotlib.colors as colors\n",
    "from matplotlib.colors import Normalize\n",
    "import pandas as pd\n",
    "import scipy.stats as stats\n",
    "import seaborn as sns\n",
    "from scipy.stats import norm\n",
    "import matplotlib.patches as mpatches\n",
    "\n",
    "SuppressWarnings = True\n",
    "SuppressPlots = False\n",
    "\n",
    "## Suppress Warnings\n",
    "if SuppressWarnings:\n",
    "    warnings.filterwarnings(\"ignore\")\n",
    "if SuppressPlots:\n",
    "    import matplotlib\n",
    "    matplotlib.use(\"Agg\")\n",
    "\n",
    "print(datetime.datetime.ctime(datetime.datetime.today()))\n",
    "print(\"Matplotlib: \", mpl.__version__)\n",
    "print(\"Numpy     : \", np.__version__)"
   ]
  },
  {
   "cell_type": "code",
   "execution_count": 1,
   "id": "af363470-5d5b-40e0-9cee-12bf0c6ac541",
   "metadata": {},
   "outputs": [
    {
     "ename": "NameError",
     "evalue": "name 'pd' is not defined",
     "output_type": "error",
     "traceback": [
      "\u001b[0;31m---------------------------------------------------------------------------\u001b[0m",
      "\u001b[0;31mNameError\u001b[0m                                 Traceback (most recent call last)",
      "\u001b[0;32m<ipython-input-1-a3fd3fae9e7c>\u001b[0m in \u001b[0;36m<module>\u001b[0;34m\u001b[0m\n\u001b[1;32m      3\u001b[0m \u001b[0;34m\u001b[0m\u001b[0m\n\u001b[1;32m      4\u001b[0m \u001b[0;31m# Load data from Excel into a pandas DataFrame\u001b[0m\u001b[0;34m\u001b[0m\u001b[0;34m\u001b[0m\u001b[0;34m\u001b[0m\u001b[0m\n\u001b[0;32m----> 5\u001b[0;31m \u001b[0mdf\u001b[0m \u001b[0;34m=\u001b[0m \u001b[0mpd\u001b[0m\u001b[0;34m.\u001b[0m\u001b[0mread_excel\u001b[0m\u001b[0;34m(\u001b[0m\u001b[0mpath\u001b[0m\u001b[0;34m)\u001b[0m\u001b[0;34m\u001b[0m\u001b[0;34m\u001b[0m\u001b[0m\n\u001b[0m\u001b[1;32m      6\u001b[0m \u001b[0;34m\u001b[0m\u001b[0m\n\u001b[1;32m      7\u001b[0m \u001b[0;31m# Remove the third row (index 2)\u001b[0m\u001b[0;34m\u001b[0m\u001b[0;34m\u001b[0m\u001b[0;34m\u001b[0m\u001b[0m\n",
      "\u001b[0;31mNameError\u001b[0m: name 'pd' is not defined"
     ]
    }
   ],
   "source": [
    "# Setting a path to the Excel file\n",
    "path = '/glade/u/home/nwrye/OceanTemps_Compiles/PlioMIP2data.xlsx'\n",
    "\n",
    "# Load data from Excel into a pandas DataFrame\n",
    "df = pd.read_excel(path)\n",
    "\n",
    "# Remove the third row (index 2)\n",
    "df = df.drop(2, axis=0)\n",
    "\n",
    "# Selecting specific columns from the DataFrame (longitude, depth, -95%CL, median, 95%CL)\n",
    "data = df.iloc[:, [1, 2, 3, 4, 5, 6]]\n",
    "\n",
    "# Convert DataFrame to a numpy array to allow direct indexing and modification\n",
    "data_array = data.to_numpy()\n",
    "\n",
    "# Find the indices of the negative values in the first column\n",
    "negative_indices = data_array[:, 0] < 0\n",
    "\n",
    "# Add 360 to the negative values using the indices\n",
    "data_array[negative_indices, 0] += 360\n",
    "\n",
    "# Convert the modified numpy array back to a DataFrame (if needed)\n",
    "data_modified = pd.DataFrame(data_array, columns=data.columns)\n",
    "\n",
    "# Renaming columns\n",
    "data_modified.columns = ['longitude', 'depth', 'species', 'neg95', 'median', 'pos95']\n",
    "\n",
    "# Changing the depth value in the first row to 10\n",
    "data_modified.at[0:1, 'depth'] = 15\n",
    "\n",
    "# Multiplying all values in the depth column by -1\n",
    "data_modified['depth'] *= -1\n",
    "\n",
    "# Replace NaN values in the 'longitude' column with 0 (or any default value)\n",
    "data_modified['longitude'].fillna(0, inplace=True)\n",
    "\n",
    "# Round the 'longitude' values to the nearest whole number\n",
    "data_modified['longitude'] = data_modified['longitude'].round()\n",
    "\n",
    "# Convert the DataFrame to an xarray Dataset\n",
    "ds = data_modified.to_xarray()\n",
    "\n",
    "ds['depth'] = ds['depth'].astype('float')\n",
    "\n",
    "ds['neg95'] = ds['neg95'].astype('float')\n",
    "\n",
    "ds['median'] = ds['median'].astype('float')\n",
    "\n",
    "ds['pos95'] = ds['pos95'].astype('float')\n",
    "\n",
    "ds['species'] = ds['species'].astype('str')\n",
    "\n",
    "print (ds)\n",
    "# Export the DataFrame as a netCDF file (THIS STILL SAVES THE FILE, JUST GIVES A RUNTIME ERROR FOR SOME REASON)\n",
    "ds.to_netcdf('PlioMIP2data_fin.nc')"
   ]
  }
 ],
 "metadata": {
  "kernelspec": {
   "display_name": "CMIP6 2019.10a",
   "language": "python",
   "name": "cmip6-201910a"
  },
  "language_info": {
   "codemirror_mode": {
    "name": "ipython",
    "version": 3
   },
   "file_extension": ".py",
   "mimetype": "text/x-python",
   "name": "python",
   "nbconvert_exporter": "python",
   "pygments_lexer": "ipython3",
   "version": "3.7.3"
  }
 },
 "nbformat": 4,
 "nbformat_minor": 5
}
